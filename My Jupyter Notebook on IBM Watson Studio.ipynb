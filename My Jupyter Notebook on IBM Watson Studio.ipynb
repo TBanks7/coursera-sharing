{
 "cells": [
  {
   "cell_type": "markdown",
   "id": "1913c159",
   "metadata": {},
   "source": [
    "<h1>My Jupyter Notebook on IBM Watson Studio</h1>"
   ]
  },
  {
   "cell_type": "markdown",
   "id": "9c7341b3",
   "metadata": {},
   "source": [
    "<b>Bankole Temitope</b><br>\n",
    "Sport Data Analyst"
   ]
  },
  {
   "cell_type": "markdown",
   "id": "ccae2ed6",
   "metadata": {},
   "source": [
    "*I am interested in Data Science because it is one of the emerging technologies and I am passionate about sports data*"
   ]
  },
  {
   "cell_type": "markdown",
   "id": "6572aaf6",
   "metadata": {},
   "source": [
    "<h3>My code prints the sum of two numbers</h3>"
   ]
  },
  {
   "cell_type": "code",
   "execution_count": 7,
   "id": "fe1bcf03",
   "metadata": {},
   "outputs": [
    {
     "data": {
      "text/plain": [
       "70"
      ]
     },
     "execution_count": 7,
     "metadata": {},
     "output_type": "execute_result"
    }
   ],
   "source": [
    "23+47"
   ]
  },
  {
   "cell_type": "markdown",
   "id": "c2c5cead",
   "metadata": {},
   "source": [
    "<ul>\n",
    "    <li>Fish</li>\n",
    "    <li>Cat</li>\n",
    "    <li>Dog</li>\n",
    "    <li>Bird</li>\n",
    "</ul>\n",
    "\n",
    "<ol>\n",
    "    <li>Fish</li>\n",
    "    <li>Cat</li>\n",
    "    <li>Dog</li>\n",
    "    <li>Bird</li>\n",
    "</ol>\n",
    "\n",
    "~~These is not a list of pets~~"
   ]
  }
 ],
 "metadata": {
  "kernelspec": {
   "display_name": "Python 3 (ipykernel)",
   "language": "python",
   "name": "python3"
  },
  "language_info": {
   "codemirror_mode": {
    "name": "ipython",
    "version": 3
   },
   "file_extension": ".py",
   "mimetype": "text/x-python",
   "name": "python",
   "nbconvert_exporter": "python",
   "pygments_lexer": "ipython3",
   "version": "3.9.7"
  }
 },
 "nbformat": 4,
 "nbformat_minor": 5
}
